{
 "cells": [
  {
   "cell_type": "code",
   "execution_count": 16,
   "metadata": {},
   "outputs": [],
   "source": [
    "import pickle"
   ]
  },
  {
   "cell_type": "code",
   "execution_count": 21,
   "metadata": {},
   "outputs": [],
   "source": [
    "class Employee:\n",
    "    def __init__(self, emp_name, emp_type, emp_level):\n",
    "        self.emp_name = emp_name\n",
    "        self.emp_type = emp_type\n",
    "        self.emp_level = emp_level\n",
    "    \n",
    "    def __str__(self):\n",
    "        return ('(' + 'emp_name: ' + self.emp_name + ' emp_type: ' + self.emp_type + ' emp_level: ' + str(self.emp_level))\n",
    "    \n",
    "    def __repr__(self):\n",
    "        s = 'EMP: '\n",
    "        s += ('(' + 'emp_name: ' + self.emp_name + ' emp_type: ' + self.emp_type + ' emp_level: ' + str(self.emp_level))\n",
    "        return s\n",
    "        "
   ]
  },
  {
   "cell_type": "code",
   "execution_count": 30,
   "metadata": {},
   "outputs": [],
   "source": [
    "def save_data(employee_list, file_name):\n",
    "    with open(file_name, 'wb') as f:        \n",
    "        pickle.dump(employee_list, f)\n",
    "    print('data is saved to ', file_name)\n",
    "\n",
    "def load_data(file_name):\n",
    "    a_list = []\n",
    "    with open(file_name, 'rb') as f:\n",
    "        a_list = pickle.load(f)\n",
    "    return a_list\n",
    "\n"
   ]
  },
  {
   "cell_type": "code",
   "execution_count": 23,
   "metadata": {},
   "outputs": [],
   "source": [
    "def get_employee():\n",
    "    a_list = []\n",
    "    while True:\n",
    "        emp_name = input('Employee Name: ')\n",
    "        if not emp_name:\n",
    "            return a_list\n",
    "        else:\n",
    "            emp_type = input('Employee Type: ')\n",
    "            emp_level = input('Salary Level: ')\n",
    "            emp_level = int(emp_level)\n",
    "            emp = Employee(emp_name, emp_type, emp_level)\n",
    "            a_list.append(emp)\n",
    "            print('Employee: ', emp)\n",
    "\n",
    "        "
   ]
  },
  {
   "cell_type": "code",
   "execution_count": 24,
   "metadata": {},
   "outputs": [
    {
     "name": "stdout",
     "output_type": "stream",
     "text": [
      "Employee Name: Eugene Chang\n",
      "Employee Type: Web Developer\n",
      "Salary Level: 11\n",
      "Employee:  (emp_name: Eugene Chang emp_type: Web Developer emp_level: 11\n",
      "Employee Name: David Chen\n",
      "Employee Type: Account\n",
      "Salary Level: 8\n",
      "Employee:  (emp_name: David Chen emp_type: Account emp_level: 8\n",
      "Employee Name: Daniel Chang\n",
      "Employee Type: CEO\n",
      "Salary Level: 12\n",
      "Employee:  (emp_name: Daniel Chang emp_type: CEO emp_level: 12\n",
      "Employee Name: Nina Xie\n",
      "Employee Type: CFO\n",
      "Salary Level: 12\n",
      "Employee:  (emp_name: Nina Xie emp_type: CFO emp_level: 12\n",
      "Employee Name: \n"
     ]
    }
   ],
   "source": [
    "emp_list = get_employee()"
   ]
  },
  {
   "cell_type": "code",
   "execution_count": 25,
   "metadata": {},
   "outputs": [
    {
     "data": {
      "text/plain": [
       "[EMP: (emp_name: Eugene Chang emp_type: Web Developer emp_level: 11,\n",
       " EMP: (emp_name: David Chen emp_type: Account emp_level: 8,\n",
       " EMP: (emp_name: Daniel Chang emp_type: CEO emp_level: 12,\n",
       " EMP: (emp_name: Nina Xie emp_type: CFO emp_level: 12]"
      ]
     },
     "execution_count": 25,
     "metadata": {},
     "output_type": "execute_result"
    }
   ],
   "source": [
    "emp_list"
   ]
  },
  {
   "cell_type": "code",
   "execution_count": 28,
   "metadata": {},
   "outputs": [
    {
     "name": "stdout",
     "output_type": "stream",
     "text": [
      "data is saved to  emp.bin\n"
     ]
    }
   ],
   "source": [
    "save_data(emp_list, 'emp.bin')"
   ]
  },
  {
   "cell_type": "code",
   "execution_count": 31,
   "metadata": {},
   "outputs": [
    {
     "name": "stdout",
     "output_type": "stream",
     "text": [
      "(emp_name: Eugene Chang emp_type: Web Developer emp_level: 11\n",
      "(emp_name: David Chen emp_type: Account emp_level: 8\n",
      "(emp_name: Daniel Chang emp_type: CEO emp_level: 12\n",
      "(emp_name: Nina Xie emp_type: CFO emp_level: 12\n"
     ]
    }
   ],
   "source": [
    "emp_list = load_data('emp.bin')\n",
    "for i in emp_list:\n",
    "    print(i)"
   ]
  },
  {
   "cell_type": "code",
   "execution_count": null,
   "metadata": {},
   "outputs": [],
   "source": []
  }
 ],
 "metadata": {
  "kernelspec": {
   "display_name": "Python 3",
   "language": "python",
   "name": "python3"
  },
  "language_info": {
   "codemirror_mode": {
    "name": "ipython",
    "version": 3
   },
   "file_extension": ".py",
   "mimetype": "text/x-python",
   "name": "python",
   "nbconvert_exporter": "python",
   "pygments_lexer": "ipython3",
   "version": "3.7.3"
  }
 },
 "nbformat": 4,
 "nbformat_minor": 2
}
